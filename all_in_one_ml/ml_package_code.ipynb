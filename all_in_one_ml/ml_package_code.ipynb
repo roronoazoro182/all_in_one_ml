{
  "nbformat": 4,
  "nbformat_minor": 0,
  "metadata": {
    "colab": {
      "name": "ml_package_code.ipynb",
      "provenance": [],
      "collapsed_sections": [],
      "authorship_tag": "ABX9TyNwSnWyjF1mOY+jM7181gK/",
      "include_colab_link": true
    },
    "kernelspec": {
      "name": "python3",
      "display_name": "Python 3"
    }
  },
  "cells": [
    {
      "cell_type": "markdown",
      "metadata": {
        "id": "view-in-github",
        "colab_type": "text"
      },
      "source": [
        "<a href=\"https://colab.research.google.com/github/roronoazoro182/all_in_one_ml/blob/main/all_in_one_ml/ml_package_code.ipynb\" target=\"_parent\"><img src=\"https://colab.research.google.com/assets/colab-badge.svg\" alt=\"Open In Colab\"/></a>"
      ]
    },
    {
      "cell_type": "code",
      "metadata": {
        "id": "mb2FFEENv3ZT"
      },
      "source": [
        "import pandas as pd\n",
        "import numpy as np\n",
        "from sklearn.model_selection import train_test_split\n",
        "from keras.utils import to_categorical\n",
        "from sklearn.impute import SimpleImputer\n",
        "from keras.models import Sequential\n",
        "from keras.layers import Dense\n",
        "import seaborn as sns\n",
        "import matplotlib.pyplot as plt"
      ],
      "execution_count": 46,
      "outputs": []
    },
    {
      "cell_type": "code",
      "metadata": {
        "id": "kODCeh393qoR"
      },
      "source": [
        "def read_dataset(param):\n",
        "  y_var = param[1]\n",
        "  path = param[0]\n",
        "  ind = param[2]\n",
        "  if ind ==' ':\n",
        "    df = pd.read_csv(path)\n",
        "    y = df[y_var]\n",
        "    x = df.drop(columns=y_var)\n",
        "    print(df.head())\n",
        "    return df,x,y\n",
        "\n",
        "  else:\n",
        "    df = pd.read_csv(path,index_col=ind)\n",
        "    y = df[y_var]\n",
        "    x = df.drop(columns=y_var)\n",
        "    print(df.head())\n",
        "    return df,x,y\n"
      ],
      "execution_count": 64,
      "outputs": []
    },
    {
      "cell_type": "code",
      "metadata": {
        "id": "8zdzpOhpjKIJ"
      },
      "source": [
        "def one_hot(x,y,cat=False,exc=False,onlyoutcome=False,onlyx=False):\n",
        "    if cat =='~':\n",
        "      for j in x.columns:\n",
        "        onehot = pd.get_dummies(x[j],prefix=j)\n",
        "        x = x.drop(columns=[j])\n",
        "        x = pd.concat([x,onehot],axis=1)\n",
        "      y = pd.get_dummies(y)\n",
        "      return x,y\n",
        "\n",
        "    elif exc == True:\n",
        "      col = x.columns\n",
        "      col1 = list(col)\n",
        "      for i in cat:\n",
        "        col1.remove(i)\n",
        "      for j in col1:\n",
        "        onehot = pd.get_dummies(x[j],prefix=j)\n",
        "        x = x.drop(columns=[j])\n",
        "        x = pd.concat([x,onehot],axis=1)\n",
        "      y = pd.get_dummies(y)\n",
        "      return x,y\n",
        "    \n",
        "    elif onlyoutcome == True:\n",
        "      y = pd.get_dummies(y)\n",
        "      return y\n",
        "\n",
        "    elif onlyx == True:\n",
        "      for j in x.columns:\n",
        "        onehot = pd.get_dummies(x[j],prefix=j)\n",
        "        x = x.drop(columns=[j])\n",
        "        x = pd.concat([x,onehot],axis=1)\n",
        "      return x\n",
        "    else:\n",
        "      print('----')\n",
        "      for i in cat:\n",
        "        onehot = pd.get_dummies(x[i],prefix=i)\n",
        "        x = x.drop(columns=[i])\n",
        "        x = pd.concat([x,onehot],axis=1)\n",
        "      y = pd.get_dummies(y)\n",
        "      return x,y"
      ],
      "execution_count": 77,
      "outputs": []
    },
    {
      "cell_type": "code",
      "metadata": {
        "id": "6ZI3TKNU-d5L"
      },
      "source": [
        "def split_dataset(x,y,size,state):\n",
        "  x_train,x_test,y_train,y_test = train_test_split(x,y,test_size=size,random_state=state)\n",
        "  print(x_train.shape,y_train.shape,x_test.shape,y_test.shape)\n",
        "  return x_train,x_test,y_train,y_test"
      ],
      "execution_count": 11,
      "outputs": []
    },
    {
      "cell_type": "code",
      "metadata": {
        "id": "LX89CU22-Ud1"
      },
      "source": [
        "def build_compile_fit_model(x,y,type,epo):\n",
        "  if type == 'classification':\n",
        "    x = np.asarray(x).astype('float32')\n",
        "    model = Sequential()\n",
        "    model.add(Dense(10,activation='relu',input_shape=(x.shape[1],)))\n",
        "    model.add(Dense(10,activation='relu'))\n",
        "    model.add(Dense(y.shape[1],activation='softmax'))\n",
        "    model.compile(optimizer='adam',loss='categorical_crossentropy',metrics=['accuracy'])\n",
        "    History = model.fit(x,y,epochs=epo,validation_split=0.2)\n",
        "    return model,History\n",
        "  elif type == 'regression':\n",
        "    model = Sequential()\n",
        "    model.add(Dense(10,activation='relu',input_shape=(x.shape[1],)))\n",
        "    model.add(Dense(10,activation='relu'))\n",
        "    model.add(Dense(1))\n",
        "    model.compile(optimizer='adam',loss='mse',metrics=['accuracy'])\n",
        "    History = model.fit(x,y,epochs=epo,validation_split=0.2)\n",
        "    return model,History"
      ],
      "execution_count": 40,
      "outputs": []
    },
    {
      "cell_type": "code",
      "metadata": {
        "id": "A1g_4pNmO7JN"
      },
      "source": [
        "def get_accuracy(x,y,model): \n",
        "  model.evaluate(x,y)"
      ],
      "execution_count": 20,
      "outputs": []
    },
    {
      "cell_type": "code",
      "metadata": {
        "id": "RAoHvefj-TsQ"
      },
      "source": [
        "def get_plot(x,type):\n",
        "  if type == 'correlation':\n",
        "    cora = x.corr()\n",
        "    sns.heatmap(cora)\n",
        "  "
      ],
      "execution_count": 88,
      "outputs": []
    },
    {
      "cell_type": "code",
      "metadata": {
        "id": "X0F_M_9UY6k8"
      },
      "source": [
        "def loss_vs_valloss(model,History,epochs):\n",
        "  loss_train = History.history['loss']\n",
        "  loss_val = History.history['val_loss']\n",
        "  epochs = range(epochs)\n",
        "  plt.plot(epochs, loss_train, 'g', label='Training loss')\n",
        "  plt.plot(epochs, loss_val, 'b', label='validation loss')\n",
        "  plt.title('Training and Validation loss')\n",
        "  plt.xlabel('Epochs')\n",
        "  plt.ylabel('Loss')\n",
        "  plt.legend()\n",
        "  plt.show()"
      ],
      "execution_count": 43,
      "outputs": []
    },
    {
      "cell_type": "code",
      "metadata": {
        "id": "5TNKgrgCc9PS"
      },
      "source": [
        "def accuracy_vs_valaccuracy(model,History,epochs):\n",
        "  acc_train = History.history['accuracy']\n",
        "  acc_val = History.history['val_accuracy']\n",
        "  epochs = range(epochs)\n",
        "  plt.plot(epochs, acc_train, 'g', label='Training accuracy')\n",
        "  plt.plot(epochs, acc_val, 'b', label='validation accuracy')\n",
        "  plt.title('Training and Validation accuracy')\n",
        "  plt.xlabel('Epochs')\n",
        "  plt.ylabel('Accuracy')\n",
        "  plt.legend()\n",
        "  plt.show()"
      ],
      "execution_count": 44,
      "outputs": []
    }
  ]
}